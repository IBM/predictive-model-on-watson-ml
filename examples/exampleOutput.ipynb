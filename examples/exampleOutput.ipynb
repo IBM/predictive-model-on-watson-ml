{
 "cells": [
  {
   "cell_type": "markdown",
   "metadata": {},
   "source": [
    "# Predict heart failure with Watson Machine Learning\n",
    "\n",
    "![](https://www.cdc.gov/vitalsigns/heartdisease-stroke/images/graph4_980px.jpg)\n",
    "\n",
    "This notebook contains steps and code to create a predictive model to predict heart failure and then deploy that model to Watson Machine Learning so it can be used in an application.\n",
    "\n",
    "## Learning Goals\n",
    "\n",
    "The learning goals of this notebook are:\n",
    "\n",
    "* Load a CSV file into the Object Storage service linked to your Watson Studio\n",
    "* Create an Apache Spark machine learning model\n",
    "* Train and evaluate a model\n",
    "* Persist a model in a Watson Machine Learning repository"
   ]
  },
  {
   "cell_type": "markdown",
   "metadata": {},
   "source": [
    "## 1. Setup\n",
    "\n",
    "Before you use the sample code in this notebook, you must perform the following setup tasks:\n",
    "\n",
    "* Create a Watson Machine Learning service instance (a free plan is offered) and associate it with your project\n",
    "* Upload heart failure data to the Object Store service that is part of Watson Studio"
   ]
  },
  {
   "cell_type": "markdown",
   "metadata": {},
   "source": [
    "We'll be using a few libraries for this exercise:\n",
    "\n",
    "1. [Watson Machine Learning Client](http://wml-api-pyclient.mybluemix.net/): Client library to work with the Watson Machine Learning service on IBM Cloud.\n",
    "1. [Pixiedust](https://github.com/pixiedust/pixiedust): Python Helper library for Jupyter Notebooks\n",
    "1. [ibmos2spark](https://github.com/ibm-watson-data-lab/ibmos2spark): Facilitates Data I/O between Spark and IBM Object Storage services"
   ]
  },
  {
   "cell_type": "code",
   "execution_count": 4,
   "metadata": {},
   "outputs": [
    {
     "name": "stdout",
     "output_type": "stream",
     "text": [
      "Collecting ibmos2spark\n",
      "  Downloading https://files.pythonhosted.org/packages/c6/81/1edb24382edef1ca636e87972b2da286b8271a586c728a21f916d3cd76cd/ibmos2spark-1.0.1-py2.py3-none-any.whl\n",
      "Installing collected packages: ibmos2spark\n",
      "Successfully installed ibmos2spark-1.0.1\n",
      "Collecting pixiedust\n",
      "\u001b[?25l  Downloading https://files.pythonhosted.org/packages/dc/e8/b29dcba0013e85937bc841121dcba599b692b24297acbf6a1eee78217c24/pixiedust-1.1.16.tar.gz (197kB)\n",
      "\u001b[K    100% |################################| 204kB 4.4MB/s eta 0:00:01\n",
      "\u001b[?25hCollecting mpld3 (from pixiedust)\n",
      "\u001b[?25l  Downloading https://files.pythonhosted.org/packages/91/95/a52d3a83d0a29ba0d6898f6727e9858fe7a43f6c2ce81a5fe7e05f0f4912/mpld3-0.3.tar.gz (788kB)\n",
      "\u001b[K    100% |################################| 798kB 4.0MB/s eta 0:00:01\n",
      "\u001b[?25hCollecting lxml (from pixiedust)\n",
      "\u001b[?25l  Downloading https://files.pythonhosted.org/packages/35/8a/5e066949f2b40caac32c7b2a77da63ad304b5fbe869036cc3fe4a198f724/lxml-4.3.3-cp36-cp36m-manylinux1_x86_64.whl (5.7MB)\n",
      "\u001b[K    100% |################################| 5.7MB 2.2MB/s eta 0:00:01\n",
      "\u001b[?25hCollecting geojson (from pixiedust)\n",
      "  Downloading https://files.pythonhosted.org/packages/f1/34/bc3a65faabce27a7faa755ab08d811207a4fc438f77ef09c229fc022d778/geojson-2.4.1-py2.py3-none-any.whl\n",
      "Collecting astunparse (from pixiedust)\n",
      "  Downloading https://files.pythonhosted.org/packages/2e/37/5dd0dd89b87bb5f0f32a7e775458412c52d78f230ab8d0c65df6aabc4479/astunparse-1.6.2-py2.py3-none-any.whl\n",
      "Collecting markdown (from pixiedust)\n",
      "\u001b[?25l  Downloading https://files.pythonhosted.org/packages/f5/e4/d8c18f2555add57ff21bf25af36d827145896a07607486cc79a2aea641af/Markdown-3.1-py2.py3-none-any.whl (87kB)\n",
      "\u001b[K    100% |################################| 92kB 4.9MB/s eta 0:00:01\n",
      "\u001b[?25hCollecting colour (from pixiedust)\n",
      "  Downloading https://files.pythonhosted.org/packages/74/46/e81907704ab203206769dee1385dc77e1407576ff8f50a0681d0a6b541be/colour-0.1.5-py2.py3-none-any.whl\n",
      "Collecting requests (from pixiedust)\n",
      "  Using cached https://files.pythonhosted.org/packages/51/bd/23c926cd341ea6b7dd0b2a00aba99ae0f828be89d72b2190f27c11d4b7fb/requests-2.22.0-py2.py3-none-any.whl\n",
      "Collecting six<2.0,>=1.6.1 (from astunparse->pixiedust)\n",
      "  Using cached https://files.pythonhosted.org/packages/73/fb/00a976f728d0d1fecfe898238ce23f502a721c0ac0ecfedb80e0d88c64e9/six-1.12.0-py2.py3-none-any.whl\n",
      "Collecting wheel<1.0,>=0.23.0 (from astunparse->pixiedust)\n",
      "  Downloading https://files.pythonhosted.org/packages/bb/10/44230dd6bf3563b8f227dbf344c908d412ad2ff48066476672f3a72e174e/wheel-0.33.4-py2.py3-none-any.whl\n",
      "Collecting setuptools>=36 (from markdown->pixiedust)\n",
      "\u001b[?25l  Downloading https://files.pythonhosted.org/packages/ec/51/f45cea425fd5cb0b0380f5b0f048ebc1da5b417e48d304838c02d6288a1e/setuptools-41.0.1-py2.py3-none-any.whl (575kB)\n",
      "\u001b[K    100% |################################| 583kB 5.2MB/s eta 0:00:01\n",
      "\u001b[?25hCollecting urllib3!=1.25.0,!=1.25.1,<1.26,>=1.21.1 (from requests->pixiedust)\n",
      "  Using cached https://files.pythonhosted.org/packages/39/ec/d93dfc69617a028915df914339ef66936ea976ef24fa62940fd86ba0326e/urllib3-1.25.2-py2.py3-none-any.whl\n",
      "Collecting idna<2.9,>=2.5 (from requests->pixiedust)\n",
      "  Using cached https://files.pythonhosted.org/packages/14/2c/cd551d81dbe15200be1cf41cd03869a46fe7226e7450af7a6545bfc474c9/idna-2.8-py2.py3-none-any.whl\n",
      "Collecting chardet<3.1.0,>=3.0.2 (from requests->pixiedust)\n",
      "  Using cached https://files.pythonhosted.org/packages/bc/a9/01ffebfb562e4274b6487b4bb1ddec7ca55ec7510b22e4c51f14098443b8/chardet-3.0.4-py2.py3-none-any.whl\n",
      "Collecting certifi>=2017.4.17 (from requests->pixiedust)\n",
      "  Using cached https://files.pythonhosted.org/packages/60/75/f692a584e85b7eaba0e03827b3d51f45f571c2e793dd731e598828d380aa/certifi-2019.3.9-py2.py3-none-any.whl\n",
      "Building wheels for collected packages: pixiedust, mpld3\n",
      "  Building wheel for pixiedust (setup.py) ... \u001b[?25ldone\n",
      "\u001b[?25h  Stored in directory: /home/spark/shared/.cache/pip/wheels/02/4f/48/cb40062fd98c17f8f887941d8158f40b21bc66173015106c37\n",
      "  Building wheel for mpld3 (setup.py) ... \u001b[?25ldone\n",
      "\u001b[?25h  Stored in directory: /home/spark/shared/.cache/pip/wheels/c0/47/fb/8a64f89aecfe0059830479308ad42d62e898a3e3cefdf6ba28\n",
      "Successfully built pixiedust mpld3\n",
      "\u001b[31mtensorflow 1.13.1 requires tensorboard<1.14.0,>=1.13.0, which is not installed.\u001b[0m\n",
      "\u001b[31mspyder 3.3.3 requires pyqt5<=5.12; python_version >= \"3\", which is not installed.\u001b[0m\n",
      "\u001b[31mibm-cos-sdk-core 2.4.4 has requirement urllib3<1.25,>=1.20, but you'll have urllib3 1.25.2 which is incompatible.\u001b[0m\n",
      "\u001b[31mbotocore 1.12.82 has requirement urllib3<1.25,>=1.20, but you'll have urllib3 1.25.2 which is incompatible.\u001b[0m\n",
      "Installing collected packages: mpld3, lxml, geojson, six, wheel, astunparse, setuptools, markdown, colour, urllib3, idna, chardet, certifi, requests, pixiedust\n",
      "Successfully installed astunparse-1.6.2 certifi-2019.3.9 chardet-3.0.4 colour-0.1.5 geojson-2.4.1 idna-2.8 lxml-4.3.3 markdown-3.1 mpld3-0.3 pixiedust-1.1.16 requests-2.22.0 setuptools-41.0.1 six-1.12.0 urllib3-1.25.2 wheel-0.33.4\n",
      "Collecting watson-machine-learning-client\n",
      "  Using cached https://files.pythonhosted.org/packages/5f/53/920daf8d4ef61fc61e9b3b3051c117e0c28e4782b304359612e3b569cdb6/watson_machine_learning_client-1.0.365-py3-none-any.whl\n",
      "Collecting urllib3 (from watson-machine-learning-client)\n",
      "  Using cached https://files.pythonhosted.org/packages/39/ec/d93dfc69617a028915df914339ef66936ea976ef24fa62940fd86ba0326e/urllib3-1.25.2-py2.py3-none-any.whl\n",
      "Collecting requests (from watson-machine-learning-client)\n",
      "  Using cached https://files.pythonhosted.org/packages/51/bd/23c926cd341ea6b7dd0b2a00aba99ae0f828be89d72b2190f27c11d4b7fb/requests-2.22.0-py2.py3-none-any.whl\n",
      "Collecting pandas (from watson-machine-learning-client)\n",
      "  Using cached https://files.pythonhosted.org/packages/19/74/e50234bc82c553fecdbd566d8650801e3fe2d6d8c8d940638e3d8a7c5522/pandas-0.24.2-cp36-cp36m-manylinux1_x86_64.whl\n",
      "Collecting tabulate (from watson-machine-learning-client)\n",
      "Collecting tqdm (from watson-machine-learning-client)\n",
      "  Using cached https://files.pythonhosted.org/packages/45/af/685bf3ce889ea191f3b916557f5677cc95a5e87b2fa120d74b5dd6d049d0/tqdm-4.32.1-py2.py3-none-any.whl\n",
      "Collecting lomond (from watson-machine-learning-client)\n",
      "  Using cached https://files.pythonhosted.org/packages/0f/b1/02eebed49c754b01b17de7705caa8c4ceecfb4f926cdafc220c863584360/lomond-0.3.3-py2.py3-none-any.whl\n",
      "Collecting ibm-cos-sdk (from watson-machine-learning-client)\n",
      "Collecting certifi (from watson-machine-learning-client)\n",
      "  Using cached https://files.pythonhosted.org/packages/60/75/f692a584e85b7eaba0e03827b3d51f45f571c2e793dd731e598828d380aa/certifi-2019.3.9-py2.py3-none-any.whl\n",
      "Collecting idna<2.9,>=2.5 (from requests->watson-machine-learning-client)\n",
      "  Using cached https://files.pythonhosted.org/packages/14/2c/cd551d81dbe15200be1cf41cd03869a46fe7226e7450af7a6545bfc474c9/idna-2.8-py2.py3-none-any.whl\n",
      "Collecting chardet<3.1.0,>=3.0.2 (from requests->watson-machine-learning-client)\n",
      "  Using cached https://files.pythonhosted.org/packages/bc/a9/01ffebfb562e4274b6487b4bb1ddec7ca55ec7510b22e4c51f14098443b8/chardet-3.0.4-py2.py3-none-any.whl\n",
      "Collecting python-dateutil>=2.5.0 (from pandas->watson-machine-learning-client)\n",
      "  Using cached https://files.pythonhosted.org/packages/41/17/c62faccbfbd163c7f57f3844689e3a78bae1f403648a6afb1d0866d87fbb/python_dateutil-2.8.0-py2.py3-none-any.whl\n",
      "Collecting pytz>=2011k (from pandas->watson-machine-learning-client)\n",
      "  Using cached https://files.pythonhosted.org/packages/3d/73/fe30c2daaaa0713420d0382b16fbb761409f532c56bdcc514bf7b6262bb6/pytz-2019.1-py2.py3-none-any.whl\n",
      "Collecting numpy>=1.12.0 (from pandas->watson-machine-learning-client)\n",
      "  Using cached https://files.pythonhosted.org/packages/c1/e2/4db8df8f6cddc98e7d7c537245ef2f4e41a1ed17bf0c3177ab3cc6beac7f/numpy-1.16.3-cp36-cp36m-manylinux1_x86_64.whl\n",
      "Collecting six>=1.10.0 (from lomond->watson-machine-learning-client)\n",
      "  Using cached https://files.pythonhosted.org/packages/73/fb/00a976f728d0d1fecfe898238ce23f502a721c0ac0ecfedb80e0d88c64e9/six-1.12.0-py2.py3-none-any.whl\n",
      "Collecting ibm-cos-sdk-s3transfer==2.*,>=2.0.0 (from ibm-cos-sdk->watson-machine-learning-client)\n",
      "Collecting ibm-cos-sdk-core==2.*,>=2.0.0 (from ibm-cos-sdk->watson-machine-learning-client)\n",
      "Collecting jmespath<1.0.0,>=0.7.1 (from ibm-cos-sdk-core==2.*,>=2.0.0->ibm-cos-sdk->watson-machine-learning-client)\n",
      "  Using cached https://files.pythonhosted.org/packages/83/94/7179c3832a6d45b266ddb2aac329e101367fbdb11f425f13771d27f225bb/jmespath-0.9.4-py2.py3-none-any.whl\n",
      "Collecting docutils>=0.10 (from ibm-cos-sdk-core==2.*,>=2.0.0->ibm-cos-sdk->watson-machine-learning-client)\n",
      "  Using cached https://files.pythonhosted.org/packages/36/fa/08e9e6e0e3cbd1d362c3bbee8d01d0aedb2155c4ac112b19ef3cae8eed8d/docutils-0.14-py3-none-any.whl\n",
      "\u001b[31mtensorflow 1.13.1 requires tensorboard<1.14.0,>=1.13.0, which is not installed.\u001b[0m\n",
      "\u001b[31mspyder 3.3.3 requires pyqt5<=5.12; python_version >= \"3\", which is not installed.\u001b[0m\n",
      "\u001b[31mibm-cos-sdk-core 2.4.4 has requirement urllib3<1.25,>=1.20, but you'll have urllib3 1.25.2 which is incompatible.\u001b[0m\n",
      "\u001b[31mbotocore 1.12.82 has requirement urllib3<1.25,>=1.20, but you'll have urllib3 1.25.2 which is incompatible.\u001b[0m\n",
      "Installing collected packages: urllib3, idna, certifi, chardet, requests, six, python-dateutil, pytz, numpy, pandas, tabulate, tqdm, lomond, jmespath, docutils, ibm-cos-sdk-core, ibm-cos-sdk-s3transfer, ibm-cos-sdk, watson-machine-learning-client\n",
      "Successfully installed certifi-2019.3.9 chardet-3.0.4 docutils-0.14 ibm-cos-sdk-2.4.4 ibm-cos-sdk-core-2.4.4 ibm-cos-sdk-s3transfer-2.4.4 idna-2.8 jmespath-0.9.4 lomond-0.3.3 numpy-1.16.3 pandas-0.24.2 python-dateutil-2.8.0 pytz-2019.1 requests-2.22.0 six-1.12.0 tabulate-0.8.3 tqdm-4.32.1 urllib3-1.25.2 watson-machine-learning-client-1.0.365\n",
      "\u001b[31mException:\n",
      "Traceback (most recent call last):\n",
      "  File \"/opt/ibm/conda/miniconda36/lib/python3.6/site-packages/pip/_internal/cli/base_command.py\", line 176, in main\n",
      "    status = self.run(options, args)\n",
      "  File \"/opt/ibm/conda/miniconda36/lib/python3.6/site-packages/pip/_internal/commands/install.py\", line 441, in run\n",
      "    options.target_dir, target_temp_dir, options.upgrade\n",
      "  File \"/opt/ibm/conda/miniconda36/lib/python3.6/site-packages/pip/_internal/commands/install.py\", line 492, in _handle_target_dir\n",
      "    shutil.rmtree(target_item_dir)\n",
      "  File \"/opt/ibm/conda/miniconda36/lib/python3.6/shutil.py\", line 486, in rmtree\n",
      "    _rmtree_safe_fd(fd, path, onerror)\n",
      "  File \"/opt/ibm/conda/miniconda36/lib/python3.6/shutil.py\", line 428, in _rmtree_safe_fd\n",
      "    onerror(os.rmdir, fullname, sys.exc_info())\n",
      "  File \"/opt/ibm/conda/miniconda36/lib/python3.6/shutil.py\", line 426, in _rmtree_safe_fd\n",
      "    os.rmdir(name, dir_fd=topfd)\n",
      "OSError: [Errno 39] Directory not empty: 'util'\u001b[0m\n"
     ]
    }
   ],
   "source": [
    "!pip install --upgrade ibmos2spark\n",
    "!pip install --upgrade pixiedust\n",
    "!pip install --upgrade watson-machine-learning-client"
   ]
  },
  {
   "cell_type": "markdown",
   "metadata": {},
   "source": [
    "## 2. Load and explore data\n",
    "\n",
    "In this section you will load the data as an Apache Spark DataFrame and perform a basic exploration. Load the data to the Spark DataFrame from your associated Object Storage instance.\n",
    "\n",
    "> **IMPORTANT**: Follow the lab instructions to insert an Apache Spark DataFrame in the cell below.\n",
    "\n",
    "> **IMPORTANT**: Ensure the DataFrame is named `df_data`.\n",
    "\n",
    "> **IMPORTANT**: Add `.option('inferSchema','True')\\` to the inserted code."
   ]
  },
  {
   "cell_type": "code",
   "execution_count": 5,
   "metadata": {},
   "outputs": [
    {
     "data": {
      "text/plain": [
       "[Row(AVGHEARTBEATSPERMIN=93, PALPITATIONSPERDAY=22, CHOLESTEROL=163, BMI=25, HEARTFAILURE='N', AGE=49, SEX='F', FAMILYHISTORY='N', SMOKERLAST5YRS='N', EXERCISEMINPERWEEK=110),\n",
       " Row(AVGHEARTBEATSPERMIN=108, PALPITATIONSPERDAY=22, CHOLESTEROL=181, BMI=24, HEARTFAILURE='N', AGE=32, SEX='F', FAMILYHISTORY='N', SMOKERLAST5YRS='N', EXERCISEMINPERWEEK=192),\n",
       " Row(AVGHEARTBEATSPERMIN=86, PALPITATIONSPERDAY=0, CHOLESTEROL=239, BMI=20, HEARTFAILURE='N', AGE=60, SEX='F', FAMILYHISTORY='N', SMOKERLAST5YRS='N', EXERCISEMINPERWEEK=121),\n",
       " Row(AVGHEARTBEATSPERMIN=80, PALPITATIONSPERDAY=36, CHOLESTEROL=164, BMI=31, HEARTFAILURE='Y', AGE=45, SEX='F', FAMILYHISTORY='Y', SMOKERLAST5YRS='N', EXERCISEMINPERWEEK=141),\n",
       " Row(AVGHEARTBEATSPERMIN=66, PALPITATIONSPERDAY=36, CHOLESTEROL=185, BMI=23, HEARTFAILURE='N', AGE=39, SEX='F', FAMILYHISTORY='N', SMOKERLAST5YRS='N', EXERCISEMINPERWEEK=63)]"
      ]
     },
     "execution_count": 5,
     "metadata": {},
     "output_type": "execute_result"
    }
   ],
   "source": [
    "\n",
    "import ibmos2spark\n",
    "# @hidden_cell\n",
    "credentials = {\n",
    "    'endpoint': 'https://s3-api.us-geo.objectstorage.service.networklayer.com',\n",
    "    'service_id': 'iam-ServiceId-975ec0b0-9302-497b-a1ed-25033ba002c3',\n",
    "    'iam_service_endpoint': 'https://iam.bluemix.net/oidc/token',\n",
    "    'api_key': '96nBClAIt8pSSKt6DG19MYrYRwLtk83jfUSNE9v9OWKv'\n",
    "}\n",
    "\n",
    "configuration_name = 'os_d06a6d04210b45e895e587633007f1df_configs'\n",
    "cos = ibmos2spark.CloudObjectStorage(sc, credentials, configuration_name, 'bluemix_cos')\n",
    "\n",
    "from pyspark.sql import SparkSession\n",
    "spark = SparkSession.builder.getOrCreate()\n",
    "df_data = spark.read\\\n",
    "  .format('org.apache.spark.sql.execution.datasources.csv.CSVFileFormat')\\\n",
    "  .option('header', 'true')\\\n",
    "  .option('inferSchema','True')\\\n",
    "  .load(cos.url('patientdataV6.csv', 'machinelearningpredictheartfailur-donotdelete-pr-uaa51miypm14pg'))\n",
    "df_data.take(5)\n"
   ]
  },
  {
   "cell_type": "markdown",
   "metadata": {},
   "source": [
    "Explore the loaded data by using the following Apache® Spark DataFrame methods:\n",
    "\n",
    "* `df_data.printSchema` to print the data schema\n",
    "* `df_data.describe()` to print the top twenty records\n",
    "* `df_data.count()` to count all records"
   ]
  },
  {
   "cell_type": "code",
   "execution_count": 6,
   "metadata": {},
   "outputs": [
    {
     "name": "stdout",
     "output_type": "stream",
     "text": [
      "root\n",
      " |-- AVGHEARTBEATSPERMIN: integer (nullable = true)\n",
      " |-- PALPITATIONSPERDAY: integer (nullable = true)\n",
      " |-- CHOLESTEROL: integer (nullable = true)\n",
      " |-- BMI: integer (nullable = true)\n",
      " |-- HEARTFAILURE: string (nullable = true)\n",
      " |-- AGE: integer (nullable = true)\n",
      " |-- SEX: string (nullable = true)\n",
      " |-- FAMILYHISTORY: string (nullable = true)\n",
      " |-- SMOKERLAST5YRS: string (nullable = true)\n",
      " |-- EXERCISEMINPERWEEK: integer (nullable = true)\n",
      "\n"
     ]
    }
   ],
   "source": [
    "df_data.printSchema()"
   ]
  },
  {
   "cell_type": "markdown",
   "metadata": {},
   "source": [
    "As you can see, the data contains ten  fields. The  HEARTFAILURE field is the one we would like to predict (label)."
   ]
  },
  {
   "cell_type": "code",
   "execution_count": 7,
   "metadata": {},
   "outputs": [
    {
     "name": "stdout",
     "output_type": "stream",
     "text": [
      "+-------------------+------------------+-----------+---+------------+---+---+-------------+--------------+------------------+\n",
      "|AVGHEARTBEATSPERMIN|PALPITATIONSPERDAY|CHOLESTEROL|BMI|HEARTFAILURE|AGE|SEX|FAMILYHISTORY|SMOKERLAST5YRS|EXERCISEMINPERWEEK|\n",
      "+-------------------+------------------+-----------+---+------------+---+---+-------------+--------------+------------------+\n",
      "|                 93|                22|        163| 25|           N| 49|  F|            N|             N|               110|\n",
      "|                108|                22|        181| 24|           N| 32|  F|            N|             N|               192|\n",
      "|                 86|                 0|        239| 20|           N| 60|  F|            N|             N|               121|\n",
      "|                 80|                36|        164| 31|           Y| 45|  F|            Y|             N|               141|\n",
      "|                 66|                36|        185| 23|           N| 39|  F|            N|             N|                63|\n",
      "|                125|                27|        201| 31|           N| 47|  M|            N|             N|                13|\n",
      "|                 83|                27|        169| 20|           N| 71|  F|            Y|             N|               124|\n",
      "|                107|                31|        199| 32|           N| 55|  F|            N|             N|                22|\n",
      "|                 92|                28|        174| 22|           N| 44|  F|            N|             N|               107|\n",
      "|                 84|                12|        206| 25|           N| 50|  M|            N|             N|               199|\n",
      "|                 60|                 1|        194| 28|           N| 71|  M|            N|             N|                27|\n",
      "|                134|                 7|        228| 34|           Y| 63|  F|            Y|             N|                92|\n",
      "|                103|                 0|        237| 24|           N| 64|  F|            Y|             N|                34|\n",
      "|                101|                39|        157| 20|           N| 49|  M|            N|             N|                33|\n",
      "|                 92|                 2|        169| 26|           N| 36|  M|            N|             N|               217|\n",
      "|                 80|                27|        234| 27|           N| 50|  M|            N|             N|                28|\n",
      "|                 82|                14|        155| 30|           N| 70|  F|            N|             N|               207|\n",
      "|                 63|                 9|        204| 26|           N| 42|  M|            N|             N|                88|\n",
      "|                 83|                12|        209| 29|           N| 38|  M|            Y|             N|               220|\n",
      "|                 80|                37|        157| 20|           N| 48|  M|            N|             N|                54|\n",
      "+-------------------+------------------+-----------+---+------------+---+---+-------------+--------------+------------------+\n",
      "only showing top 20 rows\n",
      "\n"
     ]
    }
   ],
   "source": [
    "df_data.show()"
   ]
  },
  {
   "cell_type": "code",
   "execution_count": 8,
   "metadata": {},
   "outputs": [
    {
     "name": "stdout",
     "output_type": "stream",
     "text": [
      "+-------+-------------------+------------------+------------------+------------------+------------+------------------+-----+-------------+--------------+------------------+\n",
      "|summary|AVGHEARTBEATSPERMIN|PALPITATIONSPERDAY|       CHOLESTEROL|               BMI|HEARTFAILURE|               AGE|  SEX|FAMILYHISTORY|SMOKERLAST5YRS|EXERCISEMINPERWEEK|\n",
      "+-------+-------------------+------------------+------------------+------------------+------------+------------------+-----+-------------+--------------+------------------+\n",
      "|  count|              10800|             10800|             10800|             10800|       10800|             10800|10800|        10800|         10800|             10800|\n",
      "|   mean|  87.11509259259259|20.423148148148147|195.08027777777778| 26.35972222222222|        null|49.965185185185184| null|         null|          null|119.72953703703703|\n",
      "| stddev| 19.744375148984474|12.165320351622993|26.136731865042325|3.8201472810942136|        null|13.079280962015586| null|         null|          null| 71.14706006382843|\n",
      "|    min|                 48|                 0|               150|                20|           N|                28|    F|            N|             N|                 0|\n",
      "|    max|                161|                45|               245|                34|           Y|                72|    M|            Y|             Y|               250|\n",
      "+-------+-------------------+------------------+------------------+------------------+------------+------------------+-----+-------------+--------------+------------------+\n",
      "\n"
     ]
    }
   ],
   "source": [
    "df_data.describe().show()"
   ]
  },
  {
   "cell_type": "code",
   "execution_count": 9,
   "metadata": {},
   "outputs": [
    {
     "data": {
      "text/plain": [
       "10800"
      ]
     },
     "execution_count": 9,
     "metadata": {},
     "output_type": "execute_result"
    }
   ],
   "source": [
    "df_data.count()"
   ]
  },
  {
   "cell_type": "markdown",
   "metadata": {},
   "source": [
    "As you can see, the data set contains 10800 records."
   ]
  },
  {
   "cell_type": "markdown",
   "metadata": {},
   "source": [
    "## 3. Interactive Visualizations w/PixieDust"
   ]
  },
  {
   "cell_type": "code",
   "execution_count": 10,
   "metadata": {},
   "outputs": [
    {
     "name": "stdout",
     "output_type": "stream",
     "text": [
      "Pixiedust database opened successfully\n",
      "Table VERSION_TRACKER created successfully\n",
      "Table METRICS_TRACKER created successfully\n",
      "\n",
      "Share anonymous install statistics? (opt-out instructions)\n",
      "\n",
      "PixieDust will record metadata on its environment the next time the package is installed or updated. The data is anonymized and aggregated to help plan for future releases, and records only the following values:\n",
      "\n",
      "{\n",
      "   \"data_sent\": currentDate,\n",
      "   \"runtime\": \"python\",\n",
      "   \"application_version\": currentPixiedustVersion,\n",
      "   \"space_id\": nonIdentifyingUniqueId,\n",
      "   \"config\": {\n",
      "       \"repository_id\": \"https://github.com/ibm-watson-data-lab/pixiedust\",\n",
      "       \"target_runtimes\": [\"Data Science Experience\"],\n",
      "       \"event_id\": \"web\",\n",
      "       \"event_organizer\": \"dev-journeys\"\n",
      "   }\n",
      "}\n",
      "You can opt out by calling pixiedust.optOut() in a new cell.\n"
     ]
    },
    {
     "data": {
      "text/html": [
       "\n",
       "        <div style=\"margin:10px\">\n",
       "            <a href=\"https://github.com/ibm-watson-data-lab/pixiedust\" target=\"_new\">\n",
       "                <img src=\"https://github.com/ibm-watson-data-lab/pixiedust/raw/master/docs/_static/pd_icon32.png\" style=\"float:left;margin-right:10px\"/>\n",
       "            </a>\n",
       "            <span>Pixiedust version 1.1.15</span>\n",
       "        </div>\n",
       "        "
      ],
      "text/plain": [
       "<IPython.core.display.HTML object>"
      ]
     },
     "metadata": {},
     "output_type": "display_data"
    },
    {
     "name": "stdout",
     "output_type": "stream",
     "text": [
      "\u001b[31mPixiedust runtime updated. Please restart kernel\u001b[0m\n",
      "Table SPARK_PACKAGES created successfully\n",
      "Table USER_PREFERENCES created successfully\n",
      "Table service_connections created successfully\n"
     ]
    },
    {
     "data": {
      "text/html": [
       "<div>Warning: You are not running the latest version of PixieDust. Current is 1.1.15, Latest is 1.1.16</div>"
      ],
      "text/plain": [
       "<IPython.core.display.HTML object>"
      ]
     },
     "metadata": {},
     "output_type": "display_data"
    },
    {
     "data": {
      "text/html": [
       "\n",
       "                <div>Please copy and run the following command in a new cell to upgrade: <span style=\"background-color:#ececec;font-family:monospace;padding:0 5px\">!pip install --user --upgrade pixiedust</span></div>\n",
       "            "
      ],
      "text/plain": [
       "<IPython.core.display.HTML object>"
      ]
     },
     "metadata": {},
     "output_type": "display_data"
    },
    {
     "data": {
      "text/html": [
       "<div>Please restart kernel after upgrading.</div>"
      ],
      "text/plain": [
       "<IPython.core.display.HTML object>"
      ]
     },
     "metadata": {},
     "output_type": "display_data"
    }
   ],
   "source": [
    "import pixiedust"
   ]
  },
  {
   "cell_type": "markdown",
   "metadata": {},
   "source": [
    "### Simple visualization using bar charts\n",
    "\n",
    "With PixieDust's `display()` method you can visually explore the loaded data using built-in charts, such as, bar charts, line charts, scatter plots, or maps.\n",
    "To explore a data set: choose the desired chart type from the drop down, configure chart options, configure display options."
   ]
  },
  {
   "cell_type": "code",
   "execution_count": 11,
   "metadata": {
    "pixiedust": {
     "displayParams": {
      "aggregation": "AVG",
      "chartsize": "78",
      "handlerId": "scatterPlot",
      "keyFields": "AGE",
      "kind": "kde",
      "mpld3": "false",
      "rendererId": "seaborn",
      "rowCount": "500",
      "title": "Explore",
      "valueFields": "BMI"
     }
    }
   },
   "outputs": [
    {
     "data": {
      "text/html": [
       "<style type=\"text/css\">.pd_warning{display:none;}</style><div class=\"pd_warning\"><em>Hey, there's something awesome here! To see it, open this notebook outside GitHub, in a viewer like Jupyter</em></div>\n",
       "        <div class=\"pd_save is-viewer-good\" style=\"padding-right:10px;text-align: center;line-height:initial !important;font-size: xx-large;font-weight: 500;color: coral;\">\n",
       "            Explore\n",
       "        </div>\n",
       "    <div id=\"chartFigured1c7a9ce\" class=\"pd_save is-viewer-good\" style=\"overflow-x:auto\">\n",
       "            \n",
       "                    \n",
       "                            <center><img style=\"max-width:initial !important\" src=\"data:image/png;base64,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\" class=\"pd_save\"></center>\n",
       "                        \n",
       "                    \n",
       "                \n",
       "        </div>"
      ],
      "text/plain": [
       "<IPython.core.display.HTML object>"
      ]
     },
     "metadata": {},
     "output_type": "display_data"
    }
   ],
   "source": [
    "display(df_data)"
   ]
  },
  {
   "cell_type": "markdown",
   "metadata": {},
   "source": [
    "## 4. Create a Spark machine learning model\n",
    "\n",
    "In this section you will learn how to prepare data, create and train a Spark machine learning model.\n",
    "\n",
    "### 4.1 Prepare data\n",
    "\n",
    "In this subsection you will split your data into: train and test data sets."
   ]
  },
  {
   "cell_type": "code",
   "execution_count": 12,
   "metadata": {},
   "outputs": [
    {
     "name": "stdout",
     "output_type": "stream",
     "text": [
      "Number of training records: 8637\n",
      "Number of testing records : 2163\n"
     ]
    }
   ],
   "source": [
    "split_data = df_data.randomSplit([0.8, 0.20], 24)\n",
    "train_data = split_data[0]\n",
    "test_data = split_data[1]\n",
    "\n",
    "print(\"Number of training records: \" + str(train_data.count()))\n",
    "print(\"Number of testing records : \" + str(test_data.count()))"
   ]
  },
  {
   "cell_type": "markdown",
   "metadata": {},
   "source": [
    "As you can see our data has been successfully split into two data sets:\n",
    "\n",
    "* The train data set, which is the largest group, is used for training.\n",
    "* The test data set will be used for model evaluation and is used to test the assumptions of the model.\n",
    "\n",
    "### 4.2 Create pipeline and train a model\n",
    "\n",
    "In this section you will create a Spark machine learning pipeline and then train the model. In the first step you need to import the Spark machine learning packages that will be needed in the subsequent steps. A sequence of data processing is called a _data pipeline_. Each step in the pipeline processes the data and passes the result to the next step in the pipeline, this allows you to transform and fit your model with the raw input data."
   ]
  },
  {
   "cell_type": "code",
   "execution_count": 13,
   "metadata": {},
   "outputs": [],
   "source": [
    "from pyspark.ml.feature import StringIndexer, IndexToString, VectorAssembler\n",
    "from pyspark.ml.classification import RandomForestClassifier\n",
    "from pyspark.ml.evaluation import MulticlassClassificationEvaluator\n",
    "from pyspark.ml import Pipeline, Model"
   ]
  },
  {
   "cell_type": "markdown",
   "metadata": {},
   "source": [
    "In the following step, convert all the string fields to numeric ones by using the StringIndexer transformer."
   ]
  },
  {
   "cell_type": "code",
   "execution_count": 14,
   "metadata": {},
   "outputs": [],
   "source": [
    "stringIndexer_label = StringIndexer(inputCol=\"HEARTFAILURE\", outputCol=\"label\").fit(df_data)\n",
    "stringIndexer_sex = StringIndexer(inputCol=\"SEX\", outputCol=\"SEX_IX\")\n",
    "stringIndexer_famhist = StringIndexer(inputCol=\"FAMILYHISTORY\", outputCol=\"FAMILYHISTORY_IX\")\n",
    "stringIndexer_smoker = StringIndexer(inputCol=\"SMOKERLAST5YRS\", outputCol=\"SMOKERLAST5YRS_IX\")"
   ]
  },
  {
   "cell_type": "markdown",
   "metadata": {},
   "source": [
    "\n",
    "In the following step, create a feature vector by combining all features together."
   ]
  },
  {
   "cell_type": "code",
   "execution_count": 15,
   "metadata": {},
   "outputs": [],
   "source": [
    "vectorAssembler_features = VectorAssembler(inputCols=[\"AVGHEARTBEATSPERMIN\",\"PALPITATIONSPERDAY\",\"CHOLESTEROL\",\"BMI\",\"AGE\",\"SEX_IX\",\"FAMILYHISTORY_IX\",\"SMOKERLAST5YRS_IX\",\"EXERCISEMINPERWEEK\"], outputCol=\"features\")"
   ]
  },
  {
   "cell_type": "markdown",
   "metadata": {},
   "source": [
    "Next, define estimators you want to use for classification. Random Forest is used in the following example."
   ]
  },
  {
   "cell_type": "code",
   "execution_count": 16,
   "metadata": {},
   "outputs": [],
   "source": [
    "rf = RandomForestClassifier(labelCol=\"label\", featuresCol=\"features\")"
   ]
  },
  {
   "cell_type": "markdown",
   "metadata": {},
   "source": [
    "Finally, indexed labels back to original labels."
   ]
  },
  {
   "cell_type": "code",
   "execution_count": 17,
   "metadata": {},
   "outputs": [],
   "source": [
    "labelConverter = IndexToString(inputCol=\"prediction\", outputCol=\"predictedLabel\", labels=stringIndexer_label.labels)"
   ]
  },
  {
   "cell_type": "code",
   "execution_count": 18,
   "metadata": {},
   "outputs": [
    {
     "name": "stdout",
     "output_type": "stream",
     "text": [
      "+-------------------+------------------+-----------+---+------------+---+---+-------------+--------------+------------------+-----+------+----------------+-----------------+--------------------+\n",
      "|AVGHEARTBEATSPERMIN|PALPITATIONSPERDAY|CHOLESTEROL|BMI|HEARTFAILURE|AGE|SEX|FAMILYHISTORY|SMOKERLAST5YRS|EXERCISEMINPERWEEK|label|SEX_IX|FAMILYHISTORY_IX|SMOKERLAST5YRS_IX|            features|\n",
      "+-------------------+------------------+-----------+---+------------+---+---+-------------+--------------+------------------+-----+------+----------------+-----------------+--------------------+\n",
      "|                 93|                22|        163| 25|           N| 49|  F|            N|             N|               110|  0.0|   1.0|             0.0|              0.0|[93.0,22.0,163.0,...|\n",
      "|                108|                22|        181| 24|           N| 32|  F|            N|             N|               192|  0.0|   1.0|             0.0|              0.0|[108.0,22.0,181.0...|\n",
      "|                 86|                 0|        239| 20|           N| 60|  F|            N|             N|               121|  0.0|   1.0|             0.0|              0.0|[86.0,0.0,239.0,2...|\n",
      "|                 80|                36|        164| 31|           Y| 45|  F|            Y|             N|               141|  1.0|   1.0|             1.0|              0.0|[80.0,36.0,164.0,...|\n",
      "|                 66|                36|        185| 23|           N| 39|  F|            N|             N|                63|  0.0|   1.0|             0.0|              0.0|[66.0,36.0,185.0,...|\n",
      "|                125|                27|        201| 31|           N| 47|  M|            N|             N|                13|  0.0|   0.0|             0.0|              0.0|[125.0,27.0,201.0...|\n",
      "|                 83|                27|        169| 20|           N| 71|  F|            Y|             N|               124|  0.0|   1.0|             1.0|              0.0|[83.0,27.0,169.0,...|\n",
      "|                107|                31|        199| 32|           N| 55|  F|            N|             N|                22|  0.0|   1.0|             0.0|              0.0|[107.0,31.0,199.0...|\n",
      "|                 92|                28|        174| 22|           N| 44|  F|            N|             N|               107|  0.0|   1.0|             0.0|              0.0|[92.0,28.0,174.0,...|\n",
      "|                 84|                12|        206| 25|           N| 50|  M|            N|             N|               199|  0.0|   0.0|             0.0|              0.0|[84.0,12.0,206.0,...|\n",
      "|                 60|                 1|        194| 28|           N| 71|  M|            N|             N|                27|  0.0|   0.0|             0.0|              0.0|[60.0,1.0,194.0,2...|\n",
      "|                134|                 7|        228| 34|           Y| 63|  F|            Y|             N|                92|  1.0|   1.0|             1.0|              0.0|[134.0,7.0,228.0,...|\n",
      "|                103|                 0|        237| 24|           N| 64|  F|            Y|             N|                34|  0.0|   1.0|             1.0|              0.0|[103.0,0.0,237.0,...|\n",
      "|                101|                39|        157| 20|           N| 49|  M|            N|             N|                33|  0.0|   0.0|             0.0|              0.0|[101.0,39.0,157.0...|\n",
      "|                 92|                 2|        169| 26|           N| 36|  M|            N|             N|               217|  0.0|   0.0|             0.0|              0.0|[92.0,2.0,169.0,2...|\n",
      "|                 80|                27|        234| 27|           N| 50|  M|            N|             N|                28|  0.0|   0.0|             0.0|              0.0|[80.0,27.0,234.0,...|\n",
      "|                 82|                14|        155| 30|           N| 70|  F|            N|             N|               207|  0.0|   1.0|             0.0|              0.0|[82.0,14.0,155.0,...|\n",
      "|                 63|                 9|        204| 26|           N| 42|  M|            N|             N|                88|  0.0|   0.0|             0.0|              0.0|[63.0,9.0,204.0,2...|\n",
      "|                 83|                12|        209| 29|           N| 38|  M|            Y|             N|               220|  0.0|   0.0|             1.0|              0.0|[83.0,12.0,209.0,...|\n",
      "|                 80|                37|        157| 20|           N| 48|  M|            N|             N|                54|  0.0|   0.0|             0.0|              0.0|[80.0,37.0,157.0,...|\n",
      "+-------------------+------------------+-----------+---+------------+---+---+-------------+--------------+------------------+-----+------+----------------+-----------------+--------------------+\n",
      "only showing top 20 rows\n",
      "\n"
     ]
    }
   ],
   "source": [
    "transform_df_pipeline = Pipeline(stages=[stringIndexer_label, stringIndexer_sex, stringIndexer_famhist, stringIndexer_smoker, vectorAssembler_features])\n",
    "transformed_df = transform_df_pipeline.fit(df_data).transform(df_data)\n",
    "transformed_df.show()"
   ]
  },
  {
   "cell_type": "markdown",
   "metadata": {},
   "source": [
    "Let's build the pipeline now. A pipeline consists of transformers and an estimator."
   ]
  },
  {
   "cell_type": "code",
   "execution_count": 19,
   "metadata": {},
   "outputs": [],
   "source": [
    "pipeline_rf = Pipeline(stages=[stringIndexer_label, stringIndexer_sex, stringIndexer_famhist, stringIndexer_smoker, vectorAssembler_features, rf, labelConverter])"
   ]
  },
  {
   "cell_type": "markdown",
   "metadata": {},
   "source": [
    "Now, you can train your Random Forest model by using the previously defined **pipeline** and **training data**."
   ]
  },
  {
   "cell_type": "code",
   "execution_count": 20,
   "metadata": {},
   "outputs": [],
   "source": [
    "model_rf = pipeline_rf.fit(train_data)"
   ]
  },
  {
   "cell_type": "markdown",
   "metadata": {},
   "source": [
    "You can check your **model accuracy** now. To evaluate the model, use **test data**."
   ]
  },
  {
   "cell_type": "code",
   "execution_count": 21,
   "metadata": {},
   "outputs": [
    {
     "name": "stdout",
     "output_type": "stream",
     "text": [
      "Accuracy = 0.865002\n",
      "Test Error = 0.134998\n"
     ]
    }
   ],
   "source": [
    "predictions = model_rf.transform(test_data)\n",
    "evaluatorRF = MulticlassClassificationEvaluator(labelCol=\"label\", predictionCol=\"prediction\", metricName=\"accuracy\")\n",
    "accuracy = evaluatorRF.evaluate(predictions)\n",
    "print(\"Accuracy = %g\" % accuracy)\n",
    "print(\"Test Error = %g\" % (1.0 - accuracy))"
   ]
  },
  {
   "cell_type": "markdown",
   "metadata": {},
   "source": [
    "You can tune your model now to achieve better accuracy. For simplicity of this example tuning section is omitted."
   ]
  },
  {
   "cell_type": "markdown",
   "metadata": {},
   "source": [
    "## 5. Persist model\n",
    "\n",
    "In this section you will learn how to store your pipeline and model in Watson Machine Learning repository by using Python client libraries.\n",
    "First, you must import client libraries.\n",
    "\n",
    "> **IMPORTANT**: Update the `wml_credentials` variable below. Copy and paste the entire credential dictionary, which can be found on the _Service Credentials_ tab of the Watson Machine Learning service instance created on the IBM Cloud."
   ]
  },
  {
   "cell_type": "code",
   "execution_count": 23,
   "metadata": {},
   "outputs": [
    {
     "name": "stdout",
     "output_type": "stream",
     "text": [
      "{'apikey': 'SPUIW7odR8YWYSJ5ij_3PgzD77Z59K4A9GIJcnfwU_xb', 'iam_apikey_description': 'Auto generated apikey during resource-key operation for Instance - crn:v1:bluemix:public:pm-20:us-south:a/e36fbbaf35594080bd3ead332362abdf:3814e7da-e3c4-440b-ba26-52a15fd5a1de::', 'iam_apikey_name': 'auto-generated-apikey-23c32db1-82c6-4e6e-bb32-000459a6501a', 'iam_role_crn': 'crn:v1:bluemix:public:iam::::serviceRole:Writer', 'iam_serviceid_crn': 'crn:v1:bluemix:public:iam-identity::a/e36fbbaf35594080bd3ead332362abdf::serviceid:ServiceId-a2c0f708-a29a-40a8-961e-62d5dabac943', 'instance_id': 'a7ea00ba-abd1-4516-838e-fe298495a427', 'password': '', 'url': 'https://us-south.ml.cloud.ibm.com', 'username': ''}\n"
     ]
    }
   ],
   "source": [
    "wml_credentials = {\n",
    "  \"apikey\": \"SPUIW7odR8YWYSJ5ij_3PgzD77Z59K4A9GIJcnfwU_xb\",\n",
    "  \"iam_apikey_description\": \"Auto generated apikey during resource-key operation for Instance - crn:v1:bluemix:public:pm-20:us-south:a/e36fbbaf35594080bd3ead332362abdf:3814e7da-e3c4-440b-ba26-52a15fd5a1de::\",\n",
    "  \"iam_apikey_name\": \"auto-generated-apikey-23c32db1-82c6-4e6e-bb32-000459a6501a\",\n",
    "  \"iam_role_crn\": \"crn:v1:bluemix:public:iam::::serviceRole:Writer\",\n",
    "  \"iam_serviceid_crn\": \"crn:v1:bluemix:public:iam-identity::a/e36fbbaf35594080bd3ead332362abdf::serviceid:ServiceId-a2c0f708-a29a-40a8-961e-62d5dabac943\",\n",
    "  \"instance_id\": \"a7ea00ba-abd1-4516-838e-fe298495a427\",\n",
    "  \"password\": \"\",\n",
    "  \"url\": \"https://us-south.ml.cloud.ibm.com\",\n",
    "  \"username\": \"\"\n",
    "}\n",
    "\n",
    "print(wml_credentials)"
   ]
  },
  {
   "cell_type": "code",
   "execution_count": 24,
   "metadata": {},
   "outputs": [
    {
     "name": "stdout",
     "output_type": "stream",
     "text": [
      "1.0.365\n"
     ]
    }
   ],
   "source": [
    "from watson_machine_learning_client import WatsonMachineLearningAPIClient\n",
    "client = WatsonMachineLearningAPIClient(wml_credentials)\n",
    "print(client.version)"
   ]
  },
  {
   "cell_type": "markdown",
   "metadata": {},
   "source": [
    "> **TIP**: Update the cell below with your name, email, and name you wish to give to your model."
   ]
  },
  {
   "cell_type": "markdown",
   "metadata": {},
   "source": [
    "Create model artifact (abstraction layer)."
   ]
  },
  {
   "cell_type": "code",
   "execution_count": 26,
   "metadata": {},
   "outputs": [
    {
     "name": "stderr",
     "output_type": "stream",
     "text": [
      "/home/spark/shared/user-libs/python3/urllib3/connectionpool.py:851: InsecureRequestWarning: Unverified HTTPS request is being made. Adding certificate verification is strongly advised. See: https://urllib3.readthedocs.io/en/latest/advanced-usage.html#ssl-warnings\n",
      "  InsecureRequestWarning)\n",
      "/home/spark/shared/user-libs/python3/urllib3/connectionpool.py:851: InsecureRequestWarning: Unverified HTTPS request is being made. Adding certificate verification is strongly advised. See: https://urllib3.readthedocs.io/en/latest/advanced-usage.html#ssl-warnings\n",
      "  InsecureRequestWarning)\n"
     ]
    }
   ],
   "source": [
    "model_props = {client.repository.ModelMetaNames.AUTHOR_NAME: \"IBM\", \n",
    "               client.repository.ModelMetaNames.NAME: \"Heart Failure Prediction Model\"}\n",
    "published_model = client.repository.store_model(model=model_rf, pipeline=pipeline_rf, meta_props=model_props, training_data=train_data)"
   ]
  },
  {
   "cell_type": "markdown",
   "metadata": {},
   "source": [
    "\n",
    "## 5.1 Save pipeline and model\n",
    "\n",
    "In this subsection you will learn how to save pipeline and model artifacts to your Watson Machine Learning instance."
   ]
  },
  {
   "cell_type": "code",
   "execution_count": 27,
   "metadata": {},
   "outputs": [
    {
     "name": "stdout",
     "output_type": "stream",
     "text": [
      "{\n",
      "  \"metadata\": {\n",
      "    \"guid\": \"aca42917-b59c-4bd5-86bf-88e6dc8c88c1\",\n",
      "    \"url\": \"https://us-south.ml.cloud.ibm.com/v3/wml_instances/a7ea00ba-abd1-4516-838e-fe298495a427/published_models/aca42917-b59c-4bd5-86bf-88e6dc8c88c1\",\n",
      "    \"created_at\": \"2019-05-19T04:30:59.289Z\",\n",
      "    \"modified_at\": \"2019-05-19T04:30:59.354Z\"\n",
      "  },\n",
      "  \"entity\": {\n",
      "    \"runtime_environment\": \"spark-2.3\",\n",
      "    \"learning_configuration_url\": \"https://us-south.ml.cloud.ibm.com/v3/wml_instances/a7ea00ba-abd1-4516-838e-fe298495a427/published_models/aca42917-b59c-4bd5-86bf-88e6dc8c88c1/learning_configuration\",\n",
      "    \"author\": {\n",
      "      \"name\": \"IBM\"\n",
      "    },\n",
      "    \"name\": \"Heart Failure Prediction Model\",\n",
      "    \"label_col\": \"HEARTFAILURE\",\n",
      "    \"learning_iterations_url\": \"https://us-south.ml.cloud.ibm.com/v3/wml_instances/a7ea00ba-abd1-4516-838e-fe298495a427/published_models/aca42917-b59c-4bd5-86bf-88e6dc8c88c1/learning_iterations\",\n",
      "    \"training_data_schema\": {\n",
      "      \"fields\": [\n",
      "        {\n",
      "          \"metadata\": {},\n",
      "          \"name\": \"AVGHEARTBEATSPERMIN\",\n",
      "          \"nullable\": true,\n",
      "          \"type\": \"integer\"\n",
      "        },\n",
      "        {\n",
      "          \"metadata\": {},\n",
      "          \"name\": \"PALPITATIONSPERDAY\",\n",
      "          \"nullable\": true,\n",
      "          \"type\": \"integer\"\n",
      "        },\n",
      "        {\n",
      "          \"metadata\": {},\n",
      "          \"name\": \"CHOLESTEROL\",\n",
      "          \"nullable\": true,\n",
      "          \"type\": \"integer\"\n",
      "        },\n",
      "        {\n",
      "          \"metadata\": {},\n",
      "          \"name\": \"BMI\",\n",
      "          \"nullable\": true,\n",
      "          \"type\": \"integer\"\n",
      "        },\n",
      "        {\n",
      "          \"metadata\": {\n",
      "            \"modeling_role\": \"target\"\n",
      "          },\n",
      "          \"name\": \"HEARTFAILURE\",\n",
      "          \"nullable\": true,\n",
      "          \"type\": \"string\"\n",
      "        },\n",
      "        {\n",
      "          \"metadata\": {},\n",
      "          \"name\": \"AGE\",\n",
      "          \"nullable\": true,\n",
      "          \"type\": \"integer\"\n",
      "        },\n",
      "        {\n",
      "          \"metadata\": {},\n",
      "          \"name\": \"SEX\",\n",
      "          \"nullable\": true,\n",
      "          \"type\": \"string\"\n",
      "        },\n",
      "        {\n",
      "          \"metadata\": {},\n",
      "          \"name\": \"FAMILYHISTORY\",\n",
      "          \"nullable\": true,\n",
      "          \"type\": \"string\"\n",
      "        },\n",
      "        {\n",
      "          \"metadata\": {},\n",
      "          \"name\": \"SMOKERLAST5YRS\",\n",
      "          \"nullable\": true,\n",
      "          \"type\": \"string\"\n",
      "        },\n",
      "        {\n",
      "          \"metadata\": {},\n",
      "          \"name\": \"EXERCISEMINPERWEEK\",\n",
      "          \"nullable\": true,\n",
      "          \"type\": \"integer\"\n",
      "        }\n",
      "      ],\n",
      "      \"type\": \"struct\"\n",
      "    },\n",
      "    \"feedback_url\": \"https://us-south.ml.cloud.ibm.com/v3/wml_instances/a7ea00ba-abd1-4516-838e-fe298495a427/published_models/aca42917-b59c-4bd5-86bf-88e6dc8c88c1/feedback\",\n",
      "    \"latest_version\": {\n",
      "      \"url\": \"https://us-south.ml.cloud.ibm.com/v3/ml_assets/models/aca42917-b59c-4bd5-86bf-88e6dc8c88c1/versions/cbc74459-59b7-421f-b246-c2d0c3259cbc\",\n",
      "      \"guid\": \"cbc74459-59b7-421f-b246-c2d0c3259cbc\",\n",
      "      \"created_at\": \"2019-05-19T04:30:59.354Z\"\n",
      "    },\n",
      "    \"model_type\": \"mllib-2.3\",\n",
      "    \"deployments\": {\n",
      "      \"count\": 0,\n",
      "      \"url\": \"https://us-south.ml.cloud.ibm.com/v3/wml_instances/a7ea00ba-abd1-4516-838e-fe298495a427/published_models/aca42917-b59c-4bd5-86bf-88e6dc8c88c1/deployments\"\n",
      "    },\n",
      "    \"evaluation_metrics_url\": \"https://us-south.ml.cloud.ibm.com/v3/wml_instances/a7ea00ba-abd1-4516-838e-fe298495a427/published_models/aca42917-b59c-4bd5-86bf-88e6dc8c88c1/evaluation_metrics\",\n",
      "    \"input_data_schema\": {\n",
      "      \"fields\": [\n",
      "        {\n",
      "          \"metadata\": {},\n",
      "          \"name\": \"AVGHEARTBEATSPERMIN\",\n",
      "          \"nullable\": true,\n",
      "          \"type\": \"integer\"\n",
      "        },\n",
      "        {\n",
      "          \"metadata\": {},\n",
      "          \"name\": \"PALPITATIONSPERDAY\",\n",
      "          \"nullable\": true,\n",
      "          \"type\": \"integer\"\n",
      "        },\n",
      "        {\n",
      "          \"metadata\": {},\n",
      "          \"name\": \"CHOLESTEROL\",\n",
      "          \"nullable\": true,\n",
      "          \"type\": \"integer\"\n",
      "        },\n",
      "        {\n",
      "          \"metadata\": {},\n",
      "          \"name\": \"BMI\",\n",
      "          \"nullable\": true,\n",
      "          \"type\": \"integer\"\n",
      "        },\n",
      "        {\n",
      "          \"metadata\": {},\n",
      "          \"name\": \"AGE\",\n",
      "          \"nullable\": true,\n",
      "          \"type\": \"integer\"\n",
      "        },\n",
      "        {\n",
      "          \"metadata\": {},\n",
      "          \"name\": \"SEX\",\n",
      "          \"nullable\": true,\n",
      "          \"type\": \"string\"\n",
      "        },\n",
      "        {\n",
      "          \"metadata\": {},\n",
      "          \"name\": \"FAMILYHISTORY\",\n",
      "          \"nullable\": true,\n",
      "          \"type\": \"string\"\n",
      "        },\n",
      "        {\n",
      "          \"metadata\": {},\n",
      "          \"name\": \"SMOKERLAST5YRS\",\n",
      "          \"nullable\": true,\n",
      "          \"type\": \"string\"\n",
      "        },\n",
      "        {\n",
      "          \"metadata\": {},\n",
      "          \"name\": \"EXERCISEMINPERWEEK\",\n",
      "          \"nullable\": true,\n",
      "          \"type\": \"integer\"\n",
      "        }\n",
      "      ],\n",
      "      \"type\": \"struct\"\n",
      "    }\n",
      "  }\n",
      "}\n"
     ]
    }
   ],
   "source": [
    "import json\n",
    "published_model_uid = client.repository.get_model_uid(published_model)\n",
    "model_details = client.repository.get_details(published_model_uid)\n",
    "print(json.dumps(model_details, indent=2))"
   ]
  },
  {
   "cell_type": "markdown",
   "metadata": {},
   "source": [
    "\n",
    "## 5.2 Load model to verify that it was saved correctly\n",
    "\n",
    "You can load your model to make sure that it was saved correctly."
   ]
  },
  {
   "cell_type": "code",
   "execution_count": 30,
   "metadata": {},
   "outputs": [
    {
     "name": "stdout",
     "output_type": "stream",
     "text": [
      "PipelineModel_481db375b420078104cf\n"
     ]
    }
   ],
   "source": [
    "loaded_model = client.repository.load(published_model_uid)\n",
    "print(loaded_model)"
   ]
  },
  {
   "cell_type": "markdown",
   "metadata": {},
   "source": [
    "Call model against test data to verify that it has been loaded correctly. Examine top 3 results"
   ]
  },
  {
   "cell_type": "code",
   "execution_count": 32,
   "metadata": {},
   "outputs": [
    {
     "name": "stdout",
     "output_type": "stream",
     "text": [
      "+----------------------------------------+--------------+\n",
      "|probability                             |predictedLabel|\n",
      "+----------------------------------------+--------------+\n",
      "|[0.9203777487089715,0.07962225129102848]|N             |\n",
      "|[0.9129992557009626,0.08700074429903736]|N             |\n",
      "|[0.9149914902932377,0.08500850970676241]|N             |\n",
      "+----------------------------------------+--------------+\n",
      "only showing top 3 rows\n",
      "\n"
     ]
    }
   ],
   "source": [
    "test_predictions = loaded_model.transform(test_data)\n",
    "test_predictions.select('probability', 'predictedLabel').show(n=3, truncate=False)"
   ]
  },
  {
   "cell_type": "markdown",
   "metadata": {},
   "source": [
    "## <font color=green>Congratulations</font>, you've sucessfully created a predictive model and saved it in the Watson Machine Learning service. \n",
    "\n",
    "You can now switch to the Watson Machine Learning console to deploy the model and then test it in application, or continue within the notebook to deploy the model using the APIs.\n",
    "\n",
    "***"
   ]
  },
  {
   "cell_type": "markdown",
   "metadata": {},
   "source": [
    "## 6.0 Accessing Watson ML Models and Deployments through API\n",
    "\n",
    "Instead of jumping from your notebook into a web browser, manage your model and delopment through a set of APIs"
   ]
  },
  {
   "cell_type": "markdown",
   "metadata": {},
   "source": [
    "### Deploy model to WML Service"
   ]
  },
  {
   "cell_type": "code",
   "execution_count": 33,
   "metadata": {},
   "outputs": [
    {
     "name": "stdout",
     "output_type": "stream",
     "text": [
      "\n",
      "\n",
      "#######################################################################################\n",
      "\n",
      "Synchronous deployment creation for uid: 'aca42917-b59c-4bd5-86bf-88e6dc8c88c1' started\n",
      "\n",
      "#######################################################################################\n",
      "\n",
      "\n",
      "INITIALIZING\n",
      "DEPLOY_SUCCESS\n",
      "\n",
      "\n",
      "------------------------------------------------------------------------------------------------\n",
      "Successfully finished deployment creation, deployment_uid='13cbddfd-69ad-4d1d-8234-a26f29d3f715'\n",
      "------------------------------------------------------------------------------------------------\n",
      "\n",
      "\n"
     ]
    }
   ],
   "source": [
    "created_deployment = client.deployments.create(published_model_uid, name=\"Heart Failure prediction\")"
   ]
  },
  {
   "cell_type": "markdown",
   "metadata": {},
   "source": [
    "### Print the scoring endpoint"
   ]
  },
  {
   "cell_type": "code",
   "execution_count": 34,
   "metadata": {},
   "outputs": [
    {
     "name": "stdout",
     "output_type": "stream",
     "text": [
      "https://us-south.ml.cloud.ibm.com/v3/wml_instances/a7ea00ba-abd1-4516-838e-fe298495a427/deployments/13cbddfd-69ad-4d1d-8234-a26f29d3f715/online\n"
     ]
    }
   ],
   "source": [
    "scoring_endpoint = client.deployments.get_scoring_url(created_deployment)\n",
    "\n",
    "print(scoring_endpoint)"
   ]
  },
  {
   "cell_type": "markdown",
   "metadata": {},
   "source": [
    "### List model deployments"
   ]
  },
  {
   "cell_type": "code",
   "execution_count": 35,
   "metadata": {},
   "outputs": [
    {
     "name": "stdout",
     "output_type": "stream",
     "text": [
      "------------------------------------  -----------------------------------------  ------  --------------  ------------------------  ---------  -------------\n",
      "GUID                                  NAME                                       TYPE    STATE           CREATED                   FRAMEWORK  ARTIFACT TYPE\n",
      "13cbddfd-69ad-4d1d-8234-a26f29d3f715  Heart Failure prediction                   online  DEPLOY_SUCCESS  2019-05-19T04:41:38.373Z  mllib-2.3  model\n",
      "cbc1c680-ba7b-4860-9caf-a3e492865e2e  Heart Failure Prediction Model Deployment  online  DEPLOY_SUCCESS  2019-05-17T03:56:57.085Z  mllib-2.3  model\n",
      "------------------------------------  -----------------------------------------  ------  --------------  ------------------------  ---------  -------------\n"
     ]
    }
   ],
   "source": [
    "client.deployments.list()"
   ]
  },
  {
   "cell_type": "markdown",
   "metadata": {},
   "source": [
    "## 6.1 Invoke prediction model deployment\n"
   ]
  },
  {
   "cell_type": "code",
   "execution_count": 36,
   "metadata": {},
   "outputs": [
    {
     "name": "stdout",
     "output_type": "stream",
     "text": [
      "{\n",
      "  \"fields\": [\n",
      "    \"AVGHEARTBEATSPERMIN\",\n",
      "    \"PALPITATIONSPERDAY\",\n",
      "    \"CHOLESTEROL\",\n",
      "    \"BMI\",\n",
      "    \"AGE\",\n",
      "    \"SEX\",\n",
      "    \"FAMILYHISTORY\",\n",
      "    \"SMOKERLAST5YRS\",\n",
      "    \"EXERCISEMINPERWEEK\",\n",
      "    \"HEARTFAILURE\",\n",
      "    \"label\",\n",
      "    \"SEX_IX\",\n",
      "    \"FAMILYHISTORY_IX\",\n",
      "    \"SMOKERLAST5YRS_IX\",\n",
      "    \"features\",\n",
      "    \"rawPrediction\",\n",
      "    \"probability\",\n",
      "    \"prediction\",\n",
      "    \"predictedLabel\"\n",
      "  ],\n",
      "  \"values\": [\n",
      "    [\n",
      "      100,\n",
      "      85,\n",
      "      242,\n",
      "      24,\n",
      "      44,\n",
      "      \"F\",\n",
      "      \"Y\",\n",
      "      \"Y\",\n",
      "      125,\n",
      "      \"N\",\n",
      "      0.0,\n",
      "      1.0,\n",
      "      1.0,\n",
      "      1.0,\n",
      "      [\n",
      "        100.0,\n",
      "        85.0,\n",
      "        242.0,\n",
      "        24.0,\n",
      "        44.0,\n",
      "        1.0,\n",
      "        1.0,\n",
      "        1.0,\n",
      "        125.0\n",
      "      ],\n",
      "      [\n",
      "        5.699626323271749,\n",
      "        14.300373676728249\n",
      "      ],\n",
      "      [\n",
      "        0.28498131616358746,\n",
      "        0.7150186838364124\n",
      "      ],\n",
      "      1.0,\n",
      "      \"Y\"\n",
      "    ]\n",
      "  ]\n",
      "}\n",
      "Y\n"
     ]
    }
   ],
   "source": [
    "scoring_payload = { \"fields\":[\"AVGHEARTBEATSPERMIN\",\"PALPITATIONSPERDAY\",\"CHOLESTEROL\",\"BMI\",\"AGE\",\"SEX\",\"FAMILYHISTORY\",\"SMOKERLAST5YRS\",\"EXERCISEMINPERWEEK\"],\"values\":[[100,85,242,24,44,\"F\",\"Y\",\"Y\",125]]}\n",
    "\n",
    "predictions = client.deployments.score(scoring_endpoint, scoring_payload)\n",
    "\n",
    "print(json.dumps(predictions, indent=2))\n",
    "print(predictions['values'][0][18])"
   ]
  },
  {
   "cell_type": "markdown",
   "metadata": {},
   "source": [
    "### Narrow down prediction results to just the prediction"
   ]
  },
  {
   "cell_type": "code",
   "execution_count": 37,
   "metadata": {},
   "outputs": [
    {
     "name": "stdout",
     "output_type": "stream",
     "text": [
      "Is a 44 year old female that smokes with a low BMI at risk of Heart Failure?: Y\n"
     ]
    }
   ],
   "source": [
    "print('Is a 44 year old female that smokes with a low BMI at risk of Heart Failure?: {}'.format(client.deployments.score(scoring_endpoint, scoring_payload)\n",
    "['values'][0][18]))"
   ]
  }
 ],
 "metadata": {
  "celltoolbar": "Raw Cell Format",
  "kernelspec": {
   "display_name": "Python 3.6 with Spark",
   "language": "python3",
   "name": "python36"
  },
  "language_info": {
   "codemirror_mode": {
    "name": "ipython",
    "version": 3
   },
   "file_extension": ".py",
   "mimetype": "text/x-python",
   "name": "python",
   "nbconvert_exporter": "python",
   "pygments_lexer": "ipython3",
   "version": "3.6.8"
  }
 },
 "nbformat": 4,
 "nbformat_minor": 1
}
